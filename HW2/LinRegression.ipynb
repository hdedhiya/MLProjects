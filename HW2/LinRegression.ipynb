{
 "cells": [
  {
   "cell_type": "code",
   "execution_count": 3,
   "metadata": {},
   "outputs": [
    {
     "name": "stdout",
     "output_type": "stream",
     "text": [
      "The third variable is GR\n"
     ]
    }
   ],
   "source": [
    "import numpy as np\n",
    "\n",
    "X=np.load('detroit.npy')\n",
    "vars = [\"UEMP\", \"MAN\", \"LIC\", \"GR\", \"NMAN\", \"GOV\", \"HE\"]\n",
    "\n",
    "matrix = []\n",
    "    \n",
    "vector = []\n",
    "for i in range(len(X)):\n",
    "    vector.append(X[i][-1])\n",
    "vector = np.array(vector)\n",
    "\n",
    "## Format array\n",
    "for k in range(1,8):\n",
    "    temp = []\n",
    "    for i in range(len(X)):\n",
    "        row = []\n",
    "        row.append(X[i][0])\n",
    "        row.append(X[i][8])\n",
    "        row.append(X[i][k])\n",
    "        temp.append(row)\n",
    "    matrix.append(temp)\n",
    "\n",
    "errors = []\n",
    "for i in range(7):\n",
    "    X = np.array(matrix[i]) ### Let x be the design matrix\n",
    "\n",
    "    phi = [0.0, 0.0, 0.0]\n",
    "    t = 0.0\n",
    "    for j in range(len(X)):\n",
    "        phi += X[j]\n",
    "        t += vector[j]\n",
    "    ## Get the average\n",
    "    phi /= len(X) \n",
    "    t /= len(vector)\n",
    "\n",
    "    weights = ((np.linalg.inv((X.T).dot(X))).dot(X.T)).dot(vector)\n",
    "\n",
    "    result = 0.0\n",
    "    for j in range(len(phi)):\n",
    "        result += weights[j]*phi[j]\n",
    "    w0 = t - result\n",
    "\n",
    "    loss = 0.0\n",
    "    for n in range(len(X)):\n",
    "        third = (weights.T).dot(X[n])\n",
    "        loss += (vector[n] - w0 - third) ** 2\n",
    "    loss /= 2\n",
    "    errors.append(loss)\n",
    "\n",
    "## Print the column with the least errors\n",
    "best = errors.index(min(errors))\n",
    "print(\"The third variable is \" + vars[best])"
   ]
  },
  {
   "cell_type": "code",
   "execution_count": 5,
   "metadata": {},
   "outputs": [
    {
     "data": {
      "image/png": "[encoded data removed]",
      "text/plain": [
       "<matplotlib.figure.Figure at 0x246ba79c668>"
      ]
     },
     "metadata": {},
     "output_type": "display_data"
    }
   ],
   "source": [
    "import matplotlib.pyplot as plt\n",
    "import numpy as np\n",
    "y_pos = np.arange(len(vars))\n",
    "plt.bar(y_pos, errors, align='center', alpha=0.5)\n",
    "plt.xticks(y_pos, vars)\n",
    "plt.ylabel('Error')\n",
    "plt.show()"
   ]
  }
 ],
 "metadata": {
  "kernelspec": {
   "display_name": "Python 3",
   "language": "python",
   "name": "python3"
  },
  "language_info": {
   "codemirror_mode": {
    "name": "ipython",
    "version": 3
   },
   "file_extension": ".py",
   "mimetype": "text/x-python",
   "name": "python",
   "nbconvert_exporter": "python",
   "pygments_lexer": "ipython3",
   "version": "3.6.1"
  }
 },
 "nbformat": 4,
 "nbformat_minor": 2
}

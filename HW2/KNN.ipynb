{
 "cells": [
  {
   "cell_type": "code",
   "execution_count": 1,
   "metadata": {
    "collapsed": true
   },
   "outputs": [],
   "source": [
    "def imput_missing_values(a, b, schema):\n",
    "    counter = 0\n",
    "\n",
    "    for item in schema:\n",
    "        if item:\n",
    "            a[counter] = a[counter].fillna(a[counter].mode()[0])\n",
    "            b[counter] = b[counter].fillna(a[counter].mode()[0])\n",
    "        else:\n",
    "            posdb = a[15] == '+'\n",
    "            negdb = a[15] == '-'\n",
    "\n",
    "            posts = b[15] == '+'\n",
    "            negts = b[15] == '-'\n",
    "\n",
    "            postempdb = a[posdb]\n",
    "            negtempdb = a[negdb]\n",
    "\n",
    "            postempts = b[posts]\n",
    "            negtempts = b[negts]\n",
    "\n",
    "            posmean = postempdb[counter].mean()\n",
    "            negmean = negtempdb[counter].mean()\n",
    "\n",
    "            postempdb[counter] = postempdb[counter].fillna(postempdb[counter].mean())\n",
    "            negtempdb[counter] = negtempdb[counter].fillna(negtempdb[counter].mean())\n",
    "\n",
    "            postempts[counter] = postempts[counter].fillna(postempdb[counter].mean())\n",
    "            negtempts[counter] = negtempts[counter].fillna(negtempdb[counter].mean())\n",
    "\n",
    "            a[counter] = pd.concat([postempdb[counter], negtempdb[counter]])\n",
    "            b[counter] = pd.concat([postempts[counter], negtempts[counter]])\n",
    "        counter+=1"
   ]
  },
  {
   "cell_type": "code",
   "execution_count": 4,
   "metadata": {
    "collapsed": true
   },
   "outputs": [],
   "source": [
    "def normalize_features(a, b, schema):\n",
    "    counter = 0\n",
    "    for item in schema:\n",
    "        if not(item):\n",
    "            tempdb = a[counter]\n",
    "\n",
    "            tempts = b[counter]\n",
    "\n",
    "            tempjoin = tempdb.append(tempts)\n",
    "\n",
    "            a[counter] = (a[counter] - tempjoin.mean())/tempjoin.std()\n",
    "            b[counter] = (b[counter] - tempjoin.mean())/tempjoin.std()\n",
    "        counter+=1"
   ]
  },
  {
   "cell_type": "code",
   "execution_count": 14,
   "metadata": {
    "collapsed": true
   },
   "outputs": [],
   "source": [
    "def distance(g, f, schemaI):\n",
    "    tot = 0\n",
    "    for i in range(0, len(g) - 1):\n",
    "        #check if a category:\n",
    "        if schemaI[i] == True:\n",
    "            #Category\n",
    "            if(g[i] != f[i]):\n",
    "                tot = tot + 1\n",
    "            else:\n",
    "                tot = tot + 0       \n",
    "        else:\n",
    "            #its continuous\n",
    "            tot = tot + (float(g[i]) - float(f[i]))**2\n",
    "    return(math.sqrt(tot))"
   ]
  },
  {
   "cell_type": "code",
   "execution_count": 38,
   "metadata": {
    "collapsed": true
   },
   "outputs": [],
   "source": [
    "def predict(a, b, schema, k):\n",
    "    labels = []\n",
    "\n",
    "    for i in range(len(b)):\n",
    "            newPoint = b.iloc[i]\n",
    "\n",
    "            distances = []  #List holding distances\n",
    "\n",
    "            #Loop through our database of points\n",
    "            for j in range(len(a)):\n",
    "\n",
    "                dbPoint = a.iloc[j]\n",
    "                #For each sample calculate all the possible distances, the find the k smallest distances\n",
    "                localdistance = distance(newPoint,dbPoint,schema)\n",
    "                distances.append(localdistance)\n",
    "\n",
    "            #out of those distances find the most common classification of those entries\n",
    "\n",
    "            temp = a.copy()\n",
    "\n",
    "            temp[16] = distances\n",
    "\n",
    "            KNN = temp.nsmallest(k, 16)\n",
    "\n",
    "            #print(KNN)\n",
    "\n",
    "            # most_common,num_most_common = Counter(labels).most_common(1)[0] # 4, 6 times\n",
    "            labels.append(KNN[15].mode()[0])\n",
    "\n",
    "    #         most_common,num_most_common = max_occurrences(labels) # 4, 6 times\n",
    "\n",
    "    #         determinedLabel = most_common\n",
    "\n",
    "    #         #give this classification to the sample\n",
    "    #         newDataPoint.append(determinedLabel)\n",
    "    #         answerSet.append(newDataPoint)\n",
    "    return(labels)"
   ]
  },
  {
   "cell_type": "code",
   "execution_count": 23,
   "metadata": {
    "collapsed": true
   },
   "outputs": [],
   "source": [
    "def accuracy(a, b):\n",
    "    ctr = 0\n",
    "    counter=0\n",
    "\n",
    "    for index, row in a.iteritems():\n",
    "        if(row == b[counter]):\n",
    "            ctr = ctr + 1\n",
    "        counter += 1\n",
    "    \n",
    "    print('number correct: ' + str(ctr) + \"/\" + str(len(a)))\n",
    "    print('accuracy: ' + str(float(ctr)/ len(a)))"
   ]
  },
  {
   "cell_type": "code",
   "execution_count": 39,
   "metadata": {},
   "outputs": [
    {
     "name": "stderr",
     "output_type": "stream",
     "text": [
      "C:\\Users\\hdedh\\Anaconda3\\lib\\site-packages\\ipykernel_launcher.py:24: SettingWithCopyWarning: \n",
      "A value is trying to be set on a copy of a slice from a DataFrame.\n",
      "Try using .loc[row_indexer,col_indexer] = value instead\n",
      "\n",
      "See the caveats in the documentation: http://pandas.pydata.org/pandas-docs/stable/indexing.html#indexing-view-versus-copy\n",
      "C:\\Users\\hdedh\\Anaconda3\\lib\\site-packages\\ipykernel_launcher.py:25: SettingWithCopyWarning: \n",
      "A value is trying to be set on a copy of a slice from a DataFrame.\n",
      "Try using .loc[row_indexer,col_indexer] = value instead\n",
      "\n",
      "See the caveats in the documentation: http://pandas.pydata.org/pandas-docs/stable/indexing.html#indexing-view-versus-copy\n",
      "C:\\Users\\hdedh\\Anaconda3\\lib\\site-packages\\ipykernel_launcher.py:27: SettingWithCopyWarning: \n",
      "A value is trying to be set on a copy of a slice from a DataFrame.\n",
      "Try using .loc[row_indexer,col_indexer] = value instead\n",
      "\n",
      "See the caveats in the documentation: http://pandas.pydata.org/pandas-docs/stable/indexing.html#indexing-view-versus-copy\n",
      "C:\\Users\\hdedh\\Anaconda3\\lib\\site-packages\\ipykernel_launcher.py:28: SettingWithCopyWarning: \n",
      "A value is trying to be set on a copy of a slice from a DataFrame.\n",
      "Try using .loc[row_indexer,col_indexer] = value instead\n",
      "\n",
      "See the caveats in the documentation: http://pandas.pydata.org/pandas-docs/stable/indexing.html#indexing-view-versus-copy\n"
     ]
    },
    {
     "name": "stdout",
     "output_type": "stream",
     "text": [
      "['+', '+', '-', '+', '+', '+', '+', '+', '+', '-', '+', '-', '-', '-', '-', '+', '-', '-', '-', '-', '-', '-', '+', '+', '+', '+', '-', '+', '-', '+', '-', '-', '-', '-', '-', '-', '+', '-', '+', '-', '+', '-', '+', '-', '-', '+', '+', '+', '-', '-', '+', '-', '+', '+', '-', '-', '+', '+', '-', '-', '-', '-', '-', '+', '-', '+', '+', '-', '-', '-', '+', '-', '+', '+', '-', '+', '-', '-', '-', '-', '-', '+', '+', '-', '-', '+', '+', '-', '-', '-', '-', '-', '+', '+', '-', '-', '-', '-', '-', '-', '+', '-', '-', '-', '-', '+', '+', '-', '-', '-', '-', '+', '-', '+', '-', '-', '+', '-', '+', '+', '-', '-', '+', '-', '-', '+', '-', '+', '-', '+', '-', '+', '+', '+', '+', '-', '-', '+']\n",
      "number correct: 117/138\n",
      "accuracy: 0.8478260869565217\n"
     ]
    }
   ],
   "source": [
    "import pandas as pd\n",
    "import math\n",
    "\n",
    "database = pd.read_csv('crx.data.training', header=None, na_values='?')\n",
    "input_schema = [True, False, False, True, True, True, True, False, True, True, False, True, True, False, False, True]\n",
    "testingSet = pd.read_csv('crx.data.testing', header=None, na_values='?')\n",
    "\n",
    "imput_missing_values(database, testingSet, input_schema)\n",
    "\n",
    "normalize_features(database, testingSet, input_schema)\n",
    "\n",
    "predictions = predict(database, testingSet, input_schema, 5)\n",
    "\n",
    "#print(predictions)\n",
    "\n",
    "accuracy(testingSet[15], predictions)"
   ]
  },
  {
   "cell_type": "code",
   "execution_count": 28,
   "metadata": {},
   "outputs": [
    {
     "name": "stdout",
     "output_type": "stream",
     "text": [
      "number correct: 117/138\n",
      "accuracy: 0.8478260869565217\n"
     ]
    }
   ],
   "source": [
    "predictions = predict(database, testingSet, input_schema, 9)\n",
    "\n",
    "accuracy(testingSet[15], predictions)"
   ]
  },
  {
   "cell_type": "code",
   "execution_count": 30,
   "metadata": {},
   "outputs": [
    {
     "name": "stdout",
     "output_type": "stream",
     "text": [
      "number correct: 119/138\n",
      "accuracy: 0.8623188405797102\n"
     ]
    }
   ],
   "source": [
    "predictions = predict(database, testingSet, input_schema, 13)\n",
    "\n",
    "accuracy(testingSet[15], predictions)"
   ]
  },
  {
   "cell_type": "code",
   "execution_count": 32,
   "metadata": {},
   "outputs": [
    {
     "name": "stdout",
     "output_type": "stream",
     "text": [
      "16\n"
     ]
    }
   ],
   "source": [
    "print(len(testingSet.columns))"
   ]
  },
  {
   "cell_type": "code",
   "execution_count": 40,
   "metadata": {
    "collapsed": true
   },
   "outputs": [],
   "source": [
    "def predictL(a, b, schema, k):\n",
    "    labels = []\n",
    "\n",
    "    for i in range(len(b)):\n",
    "            newPoint = b.iloc[i]\n",
    "\n",
    "            distances = []  #List holding distances\n",
    "\n",
    "            #Loop through our database of points\n",
    "            for j in range(len(a)):\n",
    "\n",
    "                dbPoint = a.iloc[j]\n",
    "                #For each sample calculate all the possible distances, the find the k smallest distances\n",
    "                localdistance = distance(newPoint,dbPoint,schema)\n",
    "                distances.append(localdistance)\n",
    "\n",
    "            #out of those distances find the most common classification of those entries\n",
    "\n",
    "            temp = a.copy()\n",
    "\n",
    "            temp[5] = distances\n",
    "\n",
    "            KNN = temp.nsmallest(k, 5)\n",
    "\n",
    "            #print(KNN)\n",
    "\n",
    "            # most_common,num_most_common = Counter(labels).most_common(1)[0] # 4, 6 times\n",
    "            labels.append(KNN[4].mode()[0])\n",
    "\n",
    "    #         most_common,num_most_common = max_occurrences(labels) # 4, 6 times\n",
    "\n",
    "    #         determinedLabel = most_common\n",
    "\n",
    "    #         #give this classification to the sample\n",
    "    #         newDataPoint.append(determinedLabel)\n",
    "    #         answerSet.append(newDataPoint)\n",
    "    return(labels)"
   ]
  },
  {
   "cell_type": "code",
   "execution_count": 41,
   "metadata": {},
   "outputs": [
    {
     "name": "stdout",
     "output_type": "stream",
     "text": [
      "number correct: 5/6\n",
      "accuracy: 0.8333333333333334\n"
     ]
    }
   ],
   "source": [
    "databaseL = pd.read_csv('lenses.training', header=None, na_values='?')\n",
    "input_schemaL = [True, True, True, True, True]\n",
    "testingSetL = pd.read_csv('lenses.testing', header=None, na_values='?')\n",
    "\n",
    "predictionsL = predictL(databaseL, testingSetL, input_schemaL, 5)\n",
    "\n",
    "accuracy(testingSetL[4], predictionsL)"
   ]
  },
  {
   "cell_type": "code",
   "execution_count": 42,
   "metadata": {},
   "outputs": [
    {
     "name": "stdout",
     "output_type": "stream",
     "text": [
      "number correct: 5/6\n",
      "accuracy: 0.8333333333333334\n"
     ]
    }
   ],
   "source": [
    "predictionsL = predictL(databaseL, testingSetL, input_schemaL, 3)\n",
    "\n",
    "accuracy(testingSetL[4], predictionsL)"
   ]
  },
  {
   "cell_type": "code",
   "execution_count": 43,
   "metadata": {},
   "outputs": [
    {
     "name": "stdout",
     "output_type": "stream",
     "text": [
      "number correct: 5/6\n",
      "accuracy: 0.8333333333333334\n"
     ]
    }
   ],
   "source": [
    "predictionsL = predictL(databaseL, testingSetL, input_schemaL, 7)\n",
    "\n",
    "accuracy(testingSetL[4], predictionsL)"
   ]
  }
 ],
 "metadata": {
  "kernelspec": {
   "display_name": "Python 3",
   "language": "python",
   "name": "python3"
  },
  "language_info": {
   "codemirror_mode": {
    "name": "ipython",
    "version": 3
   },
   "file_extension": ".py",
   "mimetype": "text/x-python",
   "name": "python",
   "nbconvert_exporter": "python",
   "pygments_lexer": "ipython3",
   "version": "3.6.1"
  }
 },
 "nbformat": 4,
 "nbformat_minor": 2
}
